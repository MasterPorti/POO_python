{
 "cells": [
  {
   "cell_type": "code",
   "execution_count": 7,
   "metadata": {},
   "outputs": [
    {
     "name": "stdout",
     "output_type": "stream",
     "text": [
      "El estudiante Juan está estudiando\n"
     ]
    }
   ],
   "source": [
    "class Estudiante:\n",
    "    def __init__(self, nombre, edad, grado):\n",
    "        self.nombre = nombre\n",
    "        self.edad = edad\n",
    "        self.grado = grado\n",
    "    def estudiar(self):\n",
    "        print(f'El estudiante {self.nombre} está estudiando')\n",
    "\n",
    "estudiante1 = Estudiante('Juan', 20, 4)\n",
    "estudiante1.estudiar()"
   ]
  },
  {
   "cell_type": "code",
   "execution_count": 8,
   "metadata": {},
   "outputs": [
    {
     "name": "stdout",
     "output_type": "stream",
     "text": [
      "El estudiante Julio está estudiando\n",
      "None\n"
     ]
    }
   ],
   "source": [
    "nombre = input('Ingrese su nombre: ')\n",
    "edad = int(input('Ingrese su edad: '))\n",
    "grado = int(input('Ingrese su grado: '))\n",
    "estudiante2 = Estudiante(nombre, edad, grado)\n",
    "estado = input('Que realizará el estudiante: ')\n",
    "if(estado.lower() == 'estudiar'):\n",
    "    print(estudiante2.estudiar())\n",
    "else:\n",
    "    print('No reconocido error')\n"
   ]
  },
  {
   "cell_type": "code",
   "execution_count": 11,
   "metadata": {},
   "outputs": [],
   "source": [
    "class Perro:\n",
    "    def __init__(self, nombre, edad):\n",
    "        self.nombre = nombre\n",
    "        self.edad = edad\n",
    "    def ladrar(self):\n",
    "        print(f'Guaf Guaf')\n",
    "    def dormir(self):\n",
    "        print(f'Zzzzz')\n",
    "    def comer(self):\n",
    "        print(f'Ñom Ñom')"
   ]
  },
  {
   "cell_type": "code",
   "execution_count": 12,
   "metadata": {},
   "outputs": [
    {
     "name": "stdout",
     "output_type": "stream",
     "text": [
      "Guaf Guaf\n",
      "Guaf Guaf\n",
      "Ñom Ñom\n"
     ]
    }
   ],
   "source": [
    "nombre = input('Ingrese su nombre: ')\n",
    "edad = int(input('Ingrese su edad: '))\n",
    "perro1 = Perro(nombre, edad)\n",
    "while True:\n",
    "    accion = input('Ingrese la acción a realizar (\"ladrar\", \"comer\", \"dormir\"): ')\n",
    "    if accion.lower() == 'ladrar':\n",
    "        perro1.ladrar()\n",
    "    elif accion.lower() == 'comer':\n",
    "        perro1.comer()\n",
    "    elif accion.lower() == 'dormir':\n",
    "        perro1.dormir()"
   ]
  }
 ],
 "metadata": {
  "kernelspec": {
   "display_name": "Python 3",
   "language": "python",
   "name": "python3"
  },
  "language_info": {
   "codemirror_mode": {
    "name": "ipython",
    "version": 3
   },
   "file_extension": ".py",
   "mimetype": "text/x-python",
   "name": "python",
   "nbconvert_exporter": "python",
   "pygments_lexer": "ipython3",
   "version": "3.10.12"
  },
  "orig_nbformat": 4
 },
 "nbformat": 4,
 "nbformat_minor": 2
}
